{
 "cells": [
  {
   "cell_type": "markdown",
   "metadata": {},
   "source": [
    "# Use Encryption for privacy\n",
    "\n",
    "This notebook outlines some simple examples to show how simple it can be to use encryption techniques to protect privacy.\n",
    "\n",
    "In general using encryption will help to protect privacy information in two ways:\n",
    "* For data at-rest: This includes all privacy information, so called storage objects, that exist on physical media on all forms. E.g. magnetic,optical disk, SSD, etc \n",
    "* For data in-transit: When personal data is being transferred systems, or system components, or programs, such as over the network, or internal APIs , or across a service bus. So all data that is 'in-motion'.\n",
    "\n",
    "But never develop your own encryption algoritmes. We known it is fun, improves learning and makes you an excellent hacker. However the art and barrier to develop a good encryption algortime is very high.\n",
    "\n",
    "Below some simple python examples, based on proven Python encryption algoritmes."
   ]
  },
  {
   "cell_type": "markdown",
   "metadata": {},
   "source": [
    "## cryptography \n",
    "\n",
    "The Cryptography library (https://cryptography.io/) includes both high level recipes and low level interfaces to common cryptographic algorithms such as symmetric ciphers, message digests, and key derivation functions. \n",
    "\n",
    "Fernet is an implementation of symmetric (also known as “secret key”) authenticated cryptography. Fernet is ideal for encrypting data that easily fits in memory. As a design feature it does not expose unauthenticated bytes. "
   ]
  },
  {
   "cell_type": "code",
   "execution_count": 48,
   "metadata": {},
   "outputs": [
    {
     "name": "stdout",
     "output_type": "stream",
     "text": [
      "b'This is a test string to be encoded'\n",
      "This is a test string to be encoded\n"
     ]
    }
   ],
   "source": [
    "#Encryption algoritmes works on bytes most of the time. \n",
    "string='This is a test string to be encoded'.encode('UTF-8')\n",
    "print(string)\n",
    "#decode string:\n",
    "decoded_string=string.decode('UTF-8')\n",
    "print(decoded_string)"
   ]
  },
  {
   "cell_type": "code",
   "execution_count": 49,
   "metadata": {},
   "outputs": [
    {
     "name": "stdout",
     "output_type": "stream",
     "text": [
      "b'gAAAAABbAopEIq4jEmbIwQJsw67RB1vOnF4Vhzm0wpEwn5PXdv3KkEemv35RTcAu9LFhaW_wCeFfOYtQSnKo0RJdlAThQaw5NOmdq-cDA_8Wlt1RR1wmOaoBJtlp7Pjf58mDdMRoscQA'\n",
      "b'This is a test string to be encoded'\n",
      "This is a test string to be encoded\n"
     ]
    }
   ],
   "source": [
    "from cryptography.fernet import Fernet\n",
    "key = Fernet.generate_key()\n",
    "cipher_suite = Fernet(key)\n",
    "cipher_text = cipher_suite.encrypt(string)\n",
    "plain_text = cipher_suite.decrypt(cipher_text)\n",
    "print(cipher_text)\n",
    "print(plain_text)\n",
    "print(plain_text.decode('UTF-8'))\n",
    "\n"
   ]
  },
  {
   "cell_type": "markdown",
   "metadata": {},
   "source": [
    "## AES\n",
    "\n",
    "To use AES you need to create a Key and an IV (initalization vector). The Key is shared between the pair, The IV can be different for each message.\n",
    "\n",
    "Below a sample with use of the the Python Cryptography Toolkit https://www.dlitz.net/software/pycrypto/ (https://github.com/dlitz/pycrypto) This library is a collection of both secure hash functions (such as SHA256 and\n",
    "RIPEMD160), and various encryption algorithms (AES, DES, RSA, ElGamal,\n",
    "etc.).  \n",
    "\n",
    "\n"
   ]
  },
  {
   "cell_type": "code",
   "execution_count": 50,
   "metadata": {},
   "outputs": [
    {
     "name": "stdout",
     "output_type": "stream",
     "text": [
      "b'Encryption should be used to make life with GDPR simpler'\n"
     ]
    }
   ],
   "source": [
    "from Crypto.Cipher import AES\n",
    " \n",
    "key = b'ABCDEFGHIJ123456'\n",
    "iv = b'1234567890ZYXWVU'\n",
    " \n",
    "cipher = AES.new(key, AES.MODE_CFB, iv)\n",
    "data = 'Encryption should be used to make life with GDPR simpler'\n",
    "msg = iv + cipher.encrypt(data)\n",
    "plain=cipher.decrypt(msg)\n",
    " \n",
    "print (plain[16:])"
   ]
  },
  {
   "cell_type": "markdown",
   "metadata": {},
   "source": [
    "In general you MUST use a Crypto library that is actively maintained. Prefferd is that the project has a CII badge.\n",
    "So always check: https://bestpractices.coreinfrastructure.org/en/projects?gteq=100 \n",
    "\n",
    "_This pycrypto library is not active maintained anymore, so DO NOT use it for production._ There is a fork: https://pypi.org/project/pycryptodome/ that has good documentation (https://www.pycryptodome.org/en/latest/)  and is maintained. \n"
   ]
  },
  {
   "cell_type": "code",
   "execution_count": 51,
   "metadata": {},
   "outputs": [
    {
     "name": "stdout",
     "output_type": "stream",
     "text": [
      "b'This is a test string to be enco'\n",
      "b'Encryption must be done good! Test,test and test!               '\n",
      "b'swaNl1u8fhMDkpwasBvmHuc6nU6UW9NHVEfn/SQ0buDF0oK7Kf34gz2B+yXzp2T2sZpqax/MUGTZw8L96tW05A=='\n",
      "\n",
      "A wrong decryption string will not work:\n",
      "b'tst             '\n",
      "b'swaNl1u8fhMDkpwasBvmHuc6nU6UW9NHVEfn/SQ0buDF0oK7Kf34gz2B+yXzp2T2sZpqax/MUGTZw8L96tW05A==        '\n",
      "b'\\xa3\\xc7\\x9c\\xc1\\xa8\\x08\\xdd\\xa5\\xe2\\xeeE\\xe4\\xc2\\xaaNX\\x82\\xdc\\x0eh\\x1b\"\\xdc\\xd8K\\x8d\\x93.2\\xe7\\x99\\r\\xe8\\xaf\\x16me\\x86%\\xec\\x14(y\\x95\\xaeuS\\xb9&\\xb7\\xf9\\xb7\\x13\\xd6\\x8b8\\x08_\\x0f\\xc4\\xa9\\x8a\\\\S'\n",
      "\n",
      "Now the correct string:\n",
      "b'This is a test string to be enco'\n",
      "b'swaNl1u8fhMDkpwasBvmHuc6nU6UW9NHVEfn/SQ0buDF0oK7Kf34gz2B+yXzp2T2sZpqax/MUGTZw8L96tW05A==        '\n",
      "b'Encryption must be done good! Test,test and test!'\n"
     ]
    }
   ],
   "source": [
    "from Crypto.Cipher import AES  \n",
    "import base64\n",
    "\n",
    "def cypher_aes(secret_key, msg_text, encrypt=True):\n",
    "    # an AES key must be either 16, 24, or 32 bytes long\n",
    "    remainder = len(secret_key) % 16\n",
    "    modified_key = secret_key.ljust(len(secret_key) + (16 - remainder))[:32]\n",
    "    print(modified_key)\n",
    "\n",
    "    \n",
    "    remainder = len(msg_text) % 16\n",
    "    modified_text = msg_text.ljust(len(msg_text) + (16 - remainder))\n",
    "    print(modified_text)\n",
    "\n",
    "    cipher = AES.new(modified_key, AES.MODE_ECB)  # use of ECB mode in enterprise environments is very much frowned upon\n",
    "\n",
    "    if encrypt:\n",
    "        return base64.b64encode(cipher.encrypt(modified_text)).strip()\n",
    "\n",
    "    return cipher.decrypt(base64.b64decode(modified_text)).strip()\n",
    "\n",
    "\n",
    "#encrypted = cypher_aes(b'secret_AES_key_string_to_encrypt/decrypt_with', b'input_string_to_encrypt/decrypt', encrypt=True)\n",
    "encrypted = cypher_aes(string, b'Encryption must be done good! Test,test and test!', encrypt=True)\n",
    "print(encrypted)\n",
    "print()\n",
    "print('A wrong decryption string will not work:')\n",
    "print(cypher_aes(b'tst', encrypted, encrypt=False))\n",
    "print()\n",
    "print('Now the correct string:')\n",
    "print(cypher_aes(string, encrypted, encrypt=False))"
   ]
  },
  {
   "cell_type": "markdown",
   "metadata": {},
   "source": [
    "## Hashing\n",
    "\n",
    "Python has nice default hashing library. This default implements a common interface to many different secure hash and message digest algorithms. E.g. hash algorithms SHA1, SHA224, SHA256, SHA384, and SHA512 are supported."
   ]
  },
  {
   "cell_type": "code",
   "execution_count": 52,
   "metadata": {},
   "outputs": [
    {
     "name": "stdout",
     "output_type": "stream",
     "text": [
      "32\n",
      "64\n"
     ]
    }
   ],
   "source": [
    "import hashlib\n",
    "m = hashlib.sha256()\n",
    "m.update(b\"Nobody makes the mistake\")\n",
    "m.update(b\" to use hashing to be protect privacy information!\")\n",
    "m.digest()\n",
    "b'\\x03\\x1e\\xdd}Ae\\x15\\x93\\xc5\\xfe\\\\\\x00o\\xa5u+7\\xfd\\xdf\\xf7\\xbcN\\x84:\\xa6\\xaf\\x0c\\x95\\x0fK\\x94\\x06'\n",
    "print(m.digest_size)\n",
    "print(m.block_size)\n"
   ]
  }
 ],
 "metadata": {
  "kernelspec": {
   "display_name": "Python 3",
   "language": "python",
   "name": "python3"
  },
  "language_info": {
   "codemirror_mode": {
    "name": "ipython",
    "version": 3
   },
   "file_extension": ".py",
   "mimetype": "text/x-python",
   "name": "python",
   "nbconvert_exporter": "python",
   "pygments_lexer": "ipython3",
   "version": "3.6.3"
  }
 },
 "nbformat": 4,
 "nbformat_minor": 2
}
